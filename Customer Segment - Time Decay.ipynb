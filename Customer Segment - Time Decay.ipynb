{
 "cells": [
  {
   "cell_type": "markdown",
   "metadata": {},
   "source": [
    "## **분석 목표 및 예상 결과물**\n",
    "---\n",
    "\n",
    "**분석 목표**\n",
    "\n",
    "고객의 추가구매 유도를 위한 방안 수립\n",
    "\n",
    "> 분석 방법론\n",
    "1. Time Decay를 활용해 고객별 선호 카테고리 생성\n",
    "2. MBTI 활용해 고객 세그먼트\n",
    "\n",
    "> 예상 결과물\n",
    "1. 다잇다 쇼핑몰의 매출 트렌드, 고객 구매 활동성을 분석을 통해 타겟 마케팅 전략 수립"
   ]
  },
  {
   "cell_type": "markdown",
   "metadata": {},
   "source": [
    "## 1. Time Decay를 활용해 고객별 선호 카테고리 생성"
   ]
  },
  {
   "cell_type": "code",
   "execution_count": 1,
   "metadata": {},
   "outputs": [
    {
     "data": {
      "image/png": "[encoded data removed]",
      "text/plain": [
       "<Figure size 640x480 with 1 Axes>"
      ]
     },
     "metadata": {},
     "output_type": "display_data"
    }
   ],
   "source": [
    "# Time Decay Concept\n",
    "\n",
    "import matplotlib.pyplot as plt\n",
    "import numpy as np\n",
    "\n",
    "# 경과일수 생성 (예: 0부터 365까지의 경과일수)\n",
    "elapsed_days = np.arange(0, 366, 1)\n",
    "\n",
    "# 가중치 계산 (0.995^경과일수)\n",
    "weights = 0.995**elapsed_days\n",
    "\n",
    "# 그래프 그리기\n",
    "plt.plot(elapsed_days, weights, label='Weight Function')\n",
    "plt.title('Exponential Decay Function')\n",
    "plt.xlabel('Elapsed Days')\n",
    "plt.ylabel('Weight')\n",
    "plt.legend()\n",
    "plt.show()"
   ]
  },
  {
   "cell_type": "markdown",
   "metadata": {},
   "source": [
    "구매가 오래된 상품일수록, 가중치를 조정해 고객 별 최선호 아이템 조사"
   ]
  },
  {
   "cell_type": "code",
   "execution_count": null,
   "metadata": {},
   "outputs": [],
   "source": [
    "## 파일 참조, 실행 후 지워야 가독성이 생깁니다.\n",
    "%run \"C:/Users/user/Desktop/Data-Analysis-Portfolio/마케팅 데이터 분석 2024.04.11/쇼핑몰 플랫폼 분석 - RFM.ipynb\""
   ]
  },
  {
   "cell_type": "code",
   "execution_count": 3,
   "metadata": {},
   "outputs": [
    {
     "data": {
      "text/html": [
       "<div>\n",
       "<style scoped>\n",
       "    .dataframe tbody tr th:only-of-type {\n",
       "        vertical-align: middle;\n",
       "    }\n",
       "\n",
       "    .dataframe tbody tr th {\n",
       "        vertical-align: top;\n",
       "    }\n",
       "\n",
       "    .dataframe thead th {\n",
       "        text-align: right;\n",
       "    }\n",
       "</style>\n",
       "<table border=\"1\" class=\"dataframe\">\n",
       "  <thead>\n",
       "    <tr style=\"text-align: right;\">\n",
       "      <th></th>\n",
       "      <th>customer_no</th>\n",
       "      <th>age</th>\n",
       "      <th>gender</th>\n",
       "      <th>order_no</th>\n",
       "      <th>order_date</th>\n",
       "      <th>channel</th>\n",
       "      <th>item_category</th>\n",
       "      <th>item_code</th>\n",
       "      <th>item_name</th>\n",
       "      <th>price</th>\n",
       "      <th>qty</th>\n",
       "      <th>order_amount</th>\n",
       "      <th>discount_amount</th>\n",
       "      <th>paid_amount</th>\n",
       "      <th>day_of_week</th>\n",
       "      <th>age_grp</th>\n",
       "    </tr>\n",
       "  </thead>\n",
       "  <tbody>\n",
       "    <tr>\n",
       "      <th>0</th>\n",
       "      <td>2021059651101</td>\n",
       "      <td>68.0</td>\n",
       "      <td>9</td>\n",
       "      <td>202106072433746</td>\n",
       "      <td>2021-06-07</td>\n",
       "      <td>TV</td>\n",
       "      <td>캐쥬얼</td>\n",
       "      <td>323421750</td>\n",
       "      <td>밴딩팬츠</td>\n",
       "      <td>49900</td>\n",
       "      <td>1</td>\n",
       "      <td>49900</td>\n",
       "      <td>4990</td>\n",
       "      <td>44910</td>\n",
       "      <td>Monday</td>\n",
       "      <td>65over</td>\n",
       "    </tr>\n",
       "    <tr>\n",
       "      <th>1</th>\n",
       "      <td>2018069800502</td>\n",
       "      <td>49.0</td>\n",
       "      <td>2</td>\n",
       "      <td>202105311957155</td>\n",
       "      <td>2021-05-31</td>\n",
       "      <td>TV</td>\n",
       "      <td>레포츠패션</td>\n",
       "      <td>323516657</td>\n",
       "      <td>트랙수트</td>\n",
       "      <td>39000</td>\n",
       "      <td>1</td>\n",
       "      <td>39000</td>\n",
       "      <td>1000</td>\n",
       "      <td>38000</td>\n",
       "      <td>Monday</td>\n",
       "      <td>45-50</td>\n",
       "    </tr>\n",
       "    <tr>\n",
       "      <th>2</th>\n",
       "      <td>2019073300103</td>\n",
       "      <td>35.0</td>\n",
       "      <td>1</td>\n",
       "      <td>202105138020462</td>\n",
       "      <td>2021-05-13</td>\n",
       "      <td>TV</td>\n",
       "      <td>뷰티</td>\n",
       "      <td>323393459</td>\n",
       "      <td>기초세트</td>\n",
       "      <td>72000</td>\n",
       "      <td>2</td>\n",
       "      <td>144000</td>\n",
       "      <td>27600</td>\n",
       "      <td>116400</td>\n",
       "      <td>Thursday</td>\n",
       "      <td>35-40</td>\n",
       "    </tr>\n",
       "    <tr>\n",
       "      <th>3</th>\n",
       "      <td>2020075283364</td>\n",
       "      <td>41.0</td>\n",
       "      <td>9</td>\n",
       "      <td>202106171444319</td>\n",
       "      <td>2021-06-17</td>\n",
       "      <td>TV</td>\n",
       "      <td>건강식품</td>\n",
       "      <td>323420069</td>\n",
       "      <td>유산균</td>\n",
       "      <td>119000</td>\n",
       "      <td>2</td>\n",
       "      <td>238000</td>\n",
       "      <td>72920</td>\n",
       "      <td>165080</td>\n",
       "      <td>Thursday</td>\n",
       "      <td>41-45</td>\n",
       "    </tr>\n",
       "    <tr>\n",
       "      <th>4</th>\n",
       "      <td>2020104780765</td>\n",
       "      <td>46.0</td>\n",
       "      <td>1</td>\n",
       "      <td>202106024431989</td>\n",
       "      <td>2021-06-02</td>\n",
       "      <td>TV</td>\n",
       "      <td>일반식품</td>\n",
       "      <td>321820178</td>\n",
       "      <td>건강주스</td>\n",
       "      <td>45900</td>\n",
       "      <td>1</td>\n",
       "      <td>45900</td>\n",
       "      <td>2290</td>\n",
       "      <td>43610</td>\n",
       "      <td>Wednesday</td>\n",
       "      <td>45-50</td>\n",
       "    </tr>\n",
       "    <tr>\n",
       "      <th>...</th>\n",
       "      <td>...</td>\n",
       "      <td>...</td>\n",
       "      <td>...</td>\n",
       "      <td>...</td>\n",
       "      <td>...</td>\n",
       "      <td>...</td>\n",
       "      <td>...</td>\n",
       "      <td>...</td>\n",
       "      <td>...</td>\n",
       "      <td>...</td>\n",
       "      <td>...</td>\n",
       "      <td>...</td>\n",
       "      <td>...</td>\n",
       "      <td>...</td>\n",
       "      <td>...</td>\n",
       "      <td>...</td>\n",
       "    </tr>\n",
       "    <tr>\n",
       "      <th>147306</th>\n",
       "      <td>2021010562805</td>\n",
       "      <td>45.0</td>\n",
       "      <td>9</td>\n",
       "      <td>202106018639694</td>\n",
       "      <td>2021-06-01</td>\n",
       "      <td>TV</td>\n",
       "      <td>건강식품</td>\n",
       "      <td>323492393</td>\n",
       "      <td>유산균</td>\n",
       "      <td>99000</td>\n",
       "      <td>3</td>\n",
       "      <td>297000</td>\n",
       "      <td>17700</td>\n",
       "      <td>279300</td>\n",
       "      <td>Tuesday</td>\n",
       "      <td>45-50</td>\n",
       "    </tr>\n",
       "    <tr>\n",
       "      <th>147307</th>\n",
       "      <td>2019124982759</td>\n",
       "      <td>40.0</td>\n",
       "      <td>2</td>\n",
       "      <td>202104155934763</td>\n",
       "      <td>2021-04-15</td>\n",
       "      <td>TV</td>\n",
       "      <td>뷰티</td>\n",
       "      <td>321803513</td>\n",
       "      <td>파운데이션</td>\n",
       "      <td>69900</td>\n",
       "      <td>20</td>\n",
       "      <td>1398000</td>\n",
       "      <td>346400</td>\n",
       "      <td>1051600</td>\n",
       "      <td>Thursday</td>\n",
       "      <td>41-45</td>\n",
       "    </tr>\n",
       "    <tr>\n",
       "      <th>147308</th>\n",
       "      <td>2019083044089</td>\n",
       "      <td>38.0</td>\n",
       "      <td>2</td>\n",
       "      <td>202104026508012</td>\n",
       "      <td>2021-04-02</td>\n",
       "      <td>Mobile</td>\n",
       "      <td>일반식품</td>\n",
       "      <td>320105539</td>\n",
       "      <td>생수</td>\n",
       "      <td>3360</td>\n",
       "      <td>1</td>\n",
       "      <td>3360</td>\n",
       "      <td>0</td>\n",
       "      <td>3360</td>\n",
       "      <td>Friday</td>\n",
       "      <td>35-40</td>\n",
       "    </tr>\n",
       "    <tr>\n",
       "      <th>147309</th>\n",
       "      <td>2019010788799</td>\n",
       "      <td>67.0</td>\n",
       "      <td>1</td>\n",
       "      <td>202103247950735</td>\n",
       "      <td>2021-03-24</td>\n",
       "      <td>Mobile</td>\n",
       "      <td>일반식품</td>\n",
       "      <td>321742510</td>\n",
       "      <td>커피믹스</td>\n",
       "      <td>23500</td>\n",
       "      <td>1</td>\n",
       "      <td>23500</td>\n",
       "      <td>0</td>\n",
       "      <td>23500</td>\n",
       "      <td>Wednesday</td>\n",
       "      <td>65over</td>\n",
       "    </tr>\n",
       "    <tr>\n",
       "      <th>147310</th>\n",
       "      <td>2016105844716</td>\n",
       "      <td>57.0</td>\n",
       "      <td>2</td>\n",
       "      <td>202105140486768</td>\n",
       "      <td>2021-05-14</td>\n",
       "      <td>Mobile</td>\n",
       "      <td>뷰티</td>\n",
       "      <td>323477903</td>\n",
       "      <td>구강/위생용품</td>\n",
       "      <td>9900</td>\n",
       "      <td>1</td>\n",
       "      <td>9900</td>\n",
       "      <td>1980</td>\n",
       "      <td>7920</td>\n",
       "      <td>Friday</td>\n",
       "      <td>56-60</td>\n",
       "    </tr>\n",
       "  </tbody>\n",
       "</table>\n",
       "<p>147247 rows × 16 columns</p>\n",
       "</div>"
      ],
      "text/plain": [
       "          customer_no   age  gender         order_no order_date channel  \\\n",
       "0       2021059651101  68.0       9  202106072433746 2021-06-07      TV   \n",
       "1       2018069800502  49.0       2  202105311957155 2021-05-31      TV   \n",
       "2       2019073300103  35.0       1  202105138020462 2021-05-13      TV   \n",
       "3       2020075283364  41.0       9  202106171444319 2021-06-17      TV   \n",
       "4       2020104780765  46.0       1  202106024431989 2021-06-02      TV   \n",
       "...               ...   ...     ...              ...        ...     ...   \n",
       "147306  2021010562805  45.0       9  202106018639694 2021-06-01      TV   \n",
       "147307  2019124982759  40.0       2  202104155934763 2021-04-15      TV   \n",
       "147308  2019083044089  38.0       2  202104026508012 2021-04-02  Mobile   \n",
       "147309  2019010788799  67.0       1  202103247950735 2021-03-24  Mobile   \n",
       "147310  2016105844716  57.0       2  202105140486768 2021-05-14  Mobile   \n",
       "\n",
       "       item_category  item_code item_name   price  qty  order_amount  \\\n",
       "0                캐쥬얼  323421750      밴딩팬츠   49900    1         49900   \n",
       "1              레포츠패션  323516657      트랙수트   39000    1         39000   \n",
       "2                 뷰티  323393459      기초세트   72000    2        144000   \n",
       "3               건강식품  323420069       유산균  119000    2        238000   \n",
       "4               일반식품  321820178      건강주스   45900    1         45900   \n",
       "...              ...        ...       ...     ...  ...           ...   \n",
       "147306          건강식품  323492393       유산균   99000    3        297000   \n",
       "147307            뷰티  321803513     파운데이션   69900   20       1398000   \n",
       "147308          일반식품  320105539        생수    3360    1          3360   \n",
       "147309          일반식품  321742510      커피믹스   23500    1         23500   \n",
       "147310            뷰티  323477903   구강/위생용품    9900    1          9900   \n",
       "\n",
       "        discount_amount  paid_amount day_of_week age_grp  \n",
       "0                  4990        44910      Monday  65over  \n",
       "1                  1000        38000      Monday   45-50  \n",
       "2                 27600       116400    Thursday   35-40  \n",
       "3                 72920       165080    Thursday   41-45  \n",
       "4                  2290        43610   Wednesday   45-50  \n",
       "...                 ...          ...         ...     ...  \n",
       "147306            17700       279300     Tuesday   45-50  \n",
       "147307           346400      1051600    Thursday   41-45  \n",
       "147308                0         3360      Friday   35-40  \n",
       "147309                0        23500   Wednesday  65over  \n",
       "147310             1980         7920      Friday   56-60  \n",
       "\n",
       "[147247 rows x 16 columns]"
      ]
     },
     "execution_count": 3,
     "metadata": {},
     "output_type": "execute_result"
    }
   ],
   "source": [
    "customer"
   ]
  },
  {
   "cell_type": "code",
   "execution_count": 4,
   "metadata": {},
   "outputs": [
    {
     "name": "stdout",
     "output_type": "stream",
     "text": [
      "2021-06-25 00:00:00\n"
     ]
    }
   ],
   "source": [
    "# 추천을 제공하는 날짜가 이 데이터의 가장 마지막 구매 일자의 다음 날이라고 가정\n",
    "recommend_ymd = customer['order_date'].max() + pd.Timedelta(days=1)\n",
    "print(recommend_ymd)"
   ]
  },
  {
   "cell_type": "code",
   "execution_count": 5,
   "metadata": {},
   "outputs": [
    {
     "data": {
      "text/html": [
       "<div>\n",
       "<style scoped>\n",
       "    .dataframe tbody tr th:only-of-type {\n",
       "        vertical-align: middle;\n",
       "    }\n",
       "\n",
       "    .dataframe tbody tr th {\n",
       "        vertical-align: top;\n",
       "    }\n",
       "\n",
       "    .dataframe thead th {\n",
       "        text-align: right;\n",
       "    }\n",
       "</style>\n",
       "<table border=\"1\" class=\"dataframe\">\n",
       "  <thead>\n",
       "    <tr style=\"text-align: right;\">\n",
       "      <th></th>\n",
       "      <th>customer_no</th>\n",
       "      <th>order_date</th>\n",
       "      <th>item_category</th>\n",
       "      <th>cnt_order</th>\n",
       "    </tr>\n",
       "  </thead>\n",
       "  <tbody>\n",
       "    <tr>\n",
       "      <th>0</th>\n",
       "      <td>2015010000596</td>\n",
       "      <td>2021-01-15</td>\n",
       "      <td>일반식품</td>\n",
       "      <td>1</td>\n",
       "    </tr>\n",
       "    <tr>\n",
       "      <th>1</th>\n",
       "      <td>2015010000596</td>\n",
       "      <td>2021-06-03</td>\n",
       "      <td>생활가전</td>\n",
       "      <td>1</td>\n",
       "    </tr>\n",
       "    <tr>\n",
       "      <th>2</th>\n",
       "      <td>2015010000652</td>\n",
       "      <td>2021-03-06</td>\n",
       "      <td>일반식품</td>\n",
       "      <td>1</td>\n",
       "    </tr>\n",
       "    <tr>\n",
       "      <th>3</th>\n",
       "      <td>2015010001152</td>\n",
       "      <td>2021-02-13</td>\n",
       "      <td>일반식품</td>\n",
       "      <td>1</td>\n",
       "    </tr>\n",
       "    <tr>\n",
       "      <th>4</th>\n",
       "      <td>2015010001152</td>\n",
       "      <td>2021-02-18</td>\n",
       "      <td>일반식품</td>\n",
       "      <td>1</td>\n",
       "    </tr>\n",
       "    <tr>\n",
       "      <th>...</th>\n",
       "      <td>...</td>\n",
       "      <td>...</td>\n",
       "      <td>...</td>\n",
       "      <td>...</td>\n",
       "    </tr>\n",
       "    <tr>\n",
       "      <th>133826</th>\n",
       "      <td>2021069984125</td>\n",
       "      <td>2021-06-04</td>\n",
       "      <td>레포츠패션</td>\n",
       "      <td>1</td>\n",
       "    </tr>\n",
       "    <tr>\n",
       "      <th>133827</th>\n",
       "      <td>2021069986151</td>\n",
       "      <td>2021-06-04</td>\n",
       "      <td>레포츠패션</td>\n",
       "      <td>1</td>\n",
       "    </tr>\n",
       "    <tr>\n",
       "      <th>133828</th>\n",
       "      <td>2021069994005</td>\n",
       "      <td>2021-06-08</td>\n",
       "      <td>레포츠패션</td>\n",
       "      <td>1</td>\n",
       "    </tr>\n",
       "    <tr>\n",
       "      <th>133829</th>\n",
       "      <td>2021069994853</td>\n",
       "      <td>2021-06-04</td>\n",
       "      <td>레포츠패션</td>\n",
       "      <td>1</td>\n",
       "    </tr>\n",
       "    <tr>\n",
       "      <th>133830</th>\n",
       "      <td>2021069995629</td>\n",
       "      <td>2021-06-09</td>\n",
       "      <td>레포츠패션</td>\n",
       "      <td>1</td>\n",
       "    </tr>\n",
       "  </tbody>\n",
       "</table>\n",
       "<p>133831 rows × 4 columns</p>\n",
       "</div>"
      ],
      "text/plain": [
       "          customer_no order_date item_category  cnt_order\n",
       "0       2015010000596 2021-01-15          일반식품          1\n",
       "1       2015010000596 2021-06-03          생활가전          1\n",
       "2       2015010000652 2021-03-06          일반식품          1\n",
       "3       2015010001152 2021-02-13          일반식품          1\n",
       "4       2015010001152 2021-02-18          일반식품          1\n",
       "...               ...        ...           ...        ...\n",
       "133826  2021069984125 2021-06-04         레포츠패션          1\n",
       "133827  2021069986151 2021-06-04         레포츠패션          1\n",
       "133828  2021069994005 2021-06-08         레포츠패션          1\n",
       "133829  2021069994853 2021-06-04         레포츠패션          1\n",
       "133830  2021069995629 2021-06-09         레포츠패션          1\n",
       "\n",
       "[133831 rows x 4 columns]"
      ]
     },
     "execution_count": 5,
     "metadata": {},
     "output_type": "execute_result"
    }
   ],
   "source": [
    "## 유저별 데이터 집계\n",
    "decay_summary = customer.groupby(['customer_no', 'order_date', 'item_category'])['order_no'].nunique().reset_index()\n",
    "decay_summary = decay_summary.rename(columns={'order_no': 'cnt_order'})\n",
    "decay_summary"
   ]
  },
  {
   "cell_type": "code",
   "execution_count": 6,
   "metadata": {},
   "outputs": [
    {
     "data": {
      "text/html": [
       "<div>\n",
       "<style scoped>\n",
       "    .dataframe tbody tr th:only-of-type {\n",
       "        vertical-align: middle;\n",
       "    }\n",
       "\n",
       "    .dataframe tbody tr th {\n",
       "        vertical-align: top;\n",
       "    }\n",
       "\n",
       "    .dataframe thead th {\n",
       "        text-align: right;\n",
       "    }\n",
       "</style>\n",
       "<table border=\"1\" class=\"dataframe\">\n",
       "  <thead>\n",
       "    <tr style=\"text-align: right;\">\n",
       "      <th></th>\n",
       "      <th>customer_no</th>\n",
       "      <th>order_date</th>\n",
       "      <th>item_category</th>\n",
       "      <th>cnt_order</th>\n",
       "      <th>decay_day</th>\n",
       "    </tr>\n",
       "  </thead>\n",
       "  <tbody>\n",
       "    <tr>\n",
       "      <th>0</th>\n",
       "      <td>2015010000596</td>\n",
       "      <td>2021-01-15</td>\n",
       "      <td>일반식품</td>\n",
       "      <td>1</td>\n",
       "      <td>0.446186</td>\n",
       "    </tr>\n",
       "    <tr>\n",
       "      <th>1</th>\n",
       "      <td>2015010000596</td>\n",
       "      <td>2021-06-03</td>\n",
       "      <td>생활가전</td>\n",
       "      <td>1</td>\n",
       "      <td>0.895587</td>\n",
       "    </tr>\n",
       "    <tr>\n",
       "      <th>2</th>\n",
       "      <td>2015010000652</td>\n",
       "      <td>2021-03-06</td>\n",
       "      <td>일반식품</td>\n",
       "      <td>1</td>\n",
       "      <td>0.573274</td>\n",
       "    </tr>\n",
       "    <tr>\n",
       "      <th>3</th>\n",
       "      <td>2015010001152</td>\n",
       "      <td>2021-02-13</td>\n",
       "      <td>일반식품</td>\n",
       "      <td>1</td>\n",
       "      <td>0.515996</td>\n",
       "    </tr>\n",
       "    <tr>\n",
       "      <th>4</th>\n",
       "      <td>2015010001152</td>\n",
       "      <td>2021-02-18</td>\n",
       "      <td>일반식품</td>\n",
       "      <td>1</td>\n",
       "      <td>0.529092</td>\n",
       "    </tr>\n",
       "    <tr>\n",
       "      <th>...</th>\n",
       "      <td>...</td>\n",
       "      <td>...</td>\n",
       "      <td>...</td>\n",
       "      <td>...</td>\n",
       "      <td>...</td>\n",
       "    </tr>\n",
       "    <tr>\n",
       "      <th>133826</th>\n",
       "      <td>2021069984125</td>\n",
       "      <td>2021-06-04</td>\n",
       "      <td>레포츠패션</td>\n",
       "      <td>1</td>\n",
       "      <td>0.900087</td>\n",
       "    </tr>\n",
       "    <tr>\n",
       "      <th>133827</th>\n",
       "      <td>2021069986151</td>\n",
       "      <td>2021-06-04</td>\n",
       "      <td>레포츠패션</td>\n",
       "      <td>1</td>\n",
       "      <td>0.900087</td>\n",
       "    </tr>\n",
       "    <tr>\n",
       "      <th>133828</th>\n",
       "      <td>2021069994005</td>\n",
       "      <td>2021-06-08</td>\n",
       "      <td>레포츠패션</td>\n",
       "      <td>1</td>\n",
       "      <td>0.918316</td>\n",
       "    </tr>\n",
       "    <tr>\n",
       "      <th>133829</th>\n",
       "      <td>2021069994853</td>\n",
       "      <td>2021-06-04</td>\n",
       "      <td>레포츠패션</td>\n",
       "      <td>1</td>\n",
       "      <td>0.900087</td>\n",
       "    </tr>\n",
       "    <tr>\n",
       "      <th>133830</th>\n",
       "      <td>2021069995629</td>\n",
       "      <td>2021-06-09</td>\n",
       "      <td>레포츠패션</td>\n",
       "      <td>1</td>\n",
       "      <td>0.922931</td>\n",
       "    </tr>\n",
       "  </tbody>\n",
       "</table>\n",
       "<p>133831 rows × 5 columns</p>\n",
       "</div>"
      ],
      "text/plain": [
       "          customer_no order_date item_category  cnt_order  decay_day\n",
       "0       2015010000596 2021-01-15          일반식품          1   0.446186\n",
       "1       2015010000596 2021-06-03          생활가전          1   0.895587\n",
       "2       2015010000652 2021-03-06          일반식품          1   0.573274\n",
       "3       2015010001152 2021-02-13          일반식품          1   0.515996\n",
       "4       2015010001152 2021-02-18          일반식품          1   0.529092\n",
       "...               ...        ...           ...        ...        ...\n",
       "133826  2021069984125 2021-06-04         레포츠패션          1   0.900087\n",
       "133827  2021069986151 2021-06-04         레포츠패션          1   0.900087\n",
       "133828  2021069994005 2021-06-08         레포츠패션          1   0.918316\n",
       "133829  2021069994853 2021-06-04         레포츠패션          1   0.900087\n",
       "133830  2021069995629 2021-06-09         레포츠패션          1   0.922931\n",
       "\n",
       "[133831 rows x 5 columns]"
      ]
     },
     "execution_count": 6,
     "metadata": {},
     "output_type": "execute_result"
    }
   ],
   "source": [
    "## 파라미터 설정\n",
    "day_parameter = 0.995\n",
    "\n",
    "## Time Decay 적용 컬럼 생성\n",
    "decay_summary['decay_day'] = day_parameter ** ((recommend_ymd - decay_summary['order_date']).dt.days)\n",
    "decay_summary"
   ]
  },
  {
   "cell_type": "markdown",
   "metadata": {},
   "source": [
    "1일이 지날떄마다 가중치가 0.05% 씩 감소하도록 설정하였습니다."
   ]
  },
  {
   "cell_type": "code",
   "execution_count": 7,
   "metadata": {},
   "outputs": [
    {
     "data": {
      "text/html": [
       "<div>\n",
       "<style scoped>\n",
       "    .dataframe tbody tr th:only-of-type {\n",
       "        vertical-align: middle;\n",
       "    }\n",
       "\n",
       "    .dataframe tbody tr th {\n",
       "        vertical-align: top;\n",
       "    }\n",
       "\n",
       "    .dataframe thead th {\n",
       "        text-align: right;\n",
       "    }\n",
       "</style>\n",
       "<table border=\"1\" class=\"dataframe\">\n",
       "  <thead>\n",
       "    <tr style=\"text-align: right;\">\n",
       "      <th></th>\n",
       "      <th>customer_no</th>\n",
       "      <th>item_category</th>\n",
       "      <th>cnt_order</th>\n",
       "      <th>decay_day</th>\n",
       "    </tr>\n",
       "  </thead>\n",
       "  <tbody>\n",
       "    <tr>\n",
       "      <th>0</th>\n",
       "      <td>2015010000596</td>\n",
       "      <td>생활가전</td>\n",
       "      <td>1</td>\n",
       "      <td>0.895587</td>\n",
       "    </tr>\n",
       "    <tr>\n",
       "      <th>1</th>\n",
       "      <td>2015010000596</td>\n",
       "      <td>일반식품</td>\n",
       "      <td>1</td>\n",
       "      <td>0.446186</td>\n",
       "    </tr>\n",
       "    <tr>\n",
       "      <th>2</th>\n",
       "      <td>2015010000652</td>\n",
       "      <td>일반식품</td>\n",
       "      <td>1</td>\n",
       "      <td>0.573274</td>\n",
       "    </tr>\n",
       "    <tr>\n",
       "      <th>3</th>\n",
       "      <td>2015010001152</td>\n",
       "      <td>건강식품</td>\n",
       "      <td>1</td>\n",
       "      <td>0.732877</td>\n",
       "    </tr>\n",
       "    <tr>\n",
       "      <th>4</th>\n",
       "      <td>2015010001152</td>\n",
       "      <td>일반식품</td>\n",
       "      <td>5</td>\n",
       "      <td>3.087330</td>\n",
       "    </tr>\n",
       "    <tr>\n",
       "      <th>...</th>\n",
       "      <td>...</td>\n",
       "      <td>...</td>\n",
       "      <td>...</td>\n",
       "      <td>...</td>\n",
       "    </tr>\n",
       "    <tr>\n",
       "      <th>78666</th>\n",
       "      <td>2021069984125</td>\n",
       "      <td>레포츠패션</td>\n",
       "      <td>1</td>\n",
       "      <td>0.900087</td>\n",
       "    </tr>\n",
       "    <tr>\n",
       "      <th>78667</th>\n",
       "      <td>2021069986151</td>\n",
       "      <td>레포츠패션</td>\n",
       "      <td>1</td>\n",
       "      <td>0.900087</td>\n",
       "    </tr>\n",
       "    <tr>\n",
       "      <th>78668</th>\n",
       "      <td>2021069994005</td>\n",
       "      <td>레포츠패션</td>\n",
       "      <td>1</td>\n",
       "      <td>0.918316</td>\n",
       "    </tr>\n",
       "    <tr>\n",
       "      <th>78669</th>\n",
       "      <td>2021069994853</td>\n",
       "      <td>레포츠패션</td>\n",
       "      <td>1</td>\n",
       "      <td>0.900087</td>\n",
       "    </tr>\n",
       "    <tr>\n",
       "      <th>78670</th>\n",
       "      <td>2021069995629</td>\n",
       "      <td>레포츠패션</td>\n",
       "      <td>1</td>\n",
       "      <td>0.922931</td>\n",
       "    </tr>\n",
       "  </tbody>\n",
       "</table>\n",
       "<p>78671 rows × 4 columns</p>\n",
       "</div>"
      ],
      "text/plain": [
       "         customer_no item_category  cnt_order  decay_day\n",
       "0      2015010000596          생활가전          1   0.895587\n",
       "1      2015010000596          일반식품          1   0.446186\n",
       "2      2015010000652          일반식품          1   0.573274\n",
       "3      2015010001152          건강식품          1   0.732877\n",
       "4      2015010001152          일반식품          5   3.087330\n",
       "...              ...           ...        ...        ...\n",
       "78666  2021069984125         레포츠패션          1   0.900087\n",
       "78667  2021069986151         레포츠패션          1   0.900087\n",
       "78668  2021069994005         레포츠패션          1   0.918316\n",
       "78669  2021069994853         레포츠패션          1   0.900087\n",
       "78670  2021069995629         레포츠패션          1   0.922931\n",
       "\n",
       "[78671 rows x 4 columns]"
      ]
     },
     "execution_count": 7,
     "metadata": {},
     "output_type": "execute_result"
    }
   ],
   "source": [
    "## decay_day 집계\n",
    "user_decay_summary = decay_summary.groupby(['customer_no', 'item_category']).agg(cnt_order = ('cnt_order', 'sum'),\n",
    "                                                                             decay_day = ('decay_day', 'sum')).reset_index()\n",
    "\n",
    "user_decay_summary"
   ]
  },
  {
   "cell_type": "code",
   "execution_count": 8,
   "metadata": {},
   "outputs": [
    {
     "data": {
      "text/html": [
       "<div>\n",
       "<style scoped>\n",
       "    .dataframe tbody tr th:only-of-type {\n",
       "        vertical-align: middle;\n",
       "    }\n",
       "\n",
       "    .dataframe tbody tr th {\n",
       "        vertical-align: top;\n",
       "    }\n",
       "\n",
       "    .dataframe thead th {\n",
       "        text-align: right;\n",
       "    }\n",
       "</style>\n",
       "<table border=\"1\" class=\"dataframe\">\n",
       "  <thead>\n",
       "    <tr style=\"text-align: right;\">\n",
       "      <th></th>\n",
       "      <th>customer_no</th>\n",
       "      <th>item_category</th>\n",
       "      <th>cnt_order</th>\n",
       "      <th>decay_day</th>\n",
       "      <th>rn</th>\n",
       "    </tr>\n",
       "  </thead>\n",
       "  <tbody>\n",
       "    <tr>\n",
       "      <th>0</th>\n",
       "      <td>2015010000596</td>\n",
       "      <td>생활가전</td>\n",
       "      <td>1</td>\n",
       "      <td>0.895587</td>\n",
       "      <td>1</td>\n",
       "    </tr>\n",
       "    <tr>\n",
       "      <th>1</th>\n",
       "      <td>2015010000596</td>\n",
       "      <td>일반식품</td>\n",
       "      <td>1</td>\n",
       "      <td>0.446186</td>\n",
       "      <td>2</td>\n",
       "    </tr>\n",
       "    <tr>\n",
       "      <th>2</th>\n",
       "      <td>2015010000652</td>\n",
       "      <td>일반식품</td>\n",
       "      <td>1</td>\n",
       "      <td>0.573274</td>\n",
       "      <td>1</td>\n",
       "    </tr>\n",
       "    <tr>\n",
       "      <th>3</th>\n",
       "      <td>2015010001152</td>\n",
       "      <td>건강식품</td>\n",
       "      <td>1</td>\n",
       "      <td>0.732877</td>\n",
       "      <td>2</td>\n",
       "    </tr>\n",
       "    <tr>\n",
       "      <th>4</th>\n",
       "      <td>2015010001152</td>\n",
       "      <td>일반식품</td>\n",
       "      <td>5</td>\n",
       "      <td>3.087330</td>\n",
       "      <td>1</td>\n",
       "    </tr>\n",
       "    <tr>\n",
       "      <th>...</th>\n",
       "      <td>...</td>\n",
       "      <td>...</td>\n",
       "      <td>...</td>\n",
       "      <td>...</td>\n",
       "      <td>...</td>\n",
       "    </tr>\n",
       "    <tr>\n",
       "      <th>78666</th>\n",
       "      <td>2021069984125</td>\n",
       "      <td>레포츠패션</td>\n",
       "      <td>1</td>\n",
       "      <td>0.900087</td>\n",
       "      <td>1</td>\n",
       "    </tr>\n",
       "    <tr>\n",
       "      <th>78667</th>\n",
       "      <td>2021069986151</td>\n",
       "      <td>레포츠패션</td>\n",
       "      <td>1</td>\n",
       "      <td>0.900087</td>\n",
       "      <td>1</td>\n",
       "    </tr>\n",
       "    <tr>\n",
       "      <th>78668</th>\n",
       "      <td>2021069994005</td>\n",
       "      <td>레포츠패션</td>\n",
       "      <td>1</td>\n",
       "      <td>0.918316</td>\n",
       "      <td>1</td>\n",
       "    </tr>\n",
       "    <tr>\n",
       "      <th>78669</th>\n",
       "      <td>2021069994853</td>\n",
       "      <td>레포츠패션</td>\n",
       "      <td>1</td>\n",
       "      <td>0.900087</td>\n",
       "      <td>1</td>\n",
       "    </tr>\n",
       "    <tr>\n",
       "      <th>78670</th>\n",
       "      <td>2021069995629</td>\n",
       "      <td>레포츠패션</td>\n",
       "      <td>1</td>\n",
       "      <td>0.922931</td>\n",
       "      <td>1</td>\n",
       "    </tr>\n",
       "  </tbody>\n",
       "</table>\n",
       "<p>78671 rows × 5 columns</p>\n",
       "</div>"
      ],
      "text/plain": [
       "         customer_no item_category  cnt_order  decay_day  rn\n",
       "0      2015010000596          생활가전          1   0.895587   1\n",
       "1      2015010000596          일반식품          1   0.446186   2\n",
       "2      2015010000652          일반식품          1   0.573274   1\n",
       "3      2015010001152          건강식품          1   0.732877   2\n",
       "4      2015010001152          일반식품          5   3.087330   1\n",
       "...              ...           ...        ...        ...  ..\n",
       "78666  2021069984125         레포츠패션          1   0.900087   1\n",
       "78667  2021069986151         레포츠패션          1   0.900087   1\n",
       "78668  2021069994005         레포츠패션          1   0.918316   1\n",
       "78669  2021069994853         레포츠패션          1   0.900087   1\n",
       "78670  2021069995629         레포츠패션          1   0.922931   1\n",
       "\n",
       "[78671 rows x 5 columns]"
      ]
     },
     "execution_count": 8,
     "metadata": {},
     "output_type": "execute_result"
    }
   ],
   "source": [
    "## decay_day 값이 큰 아이템별로 순위 매기기\n",
    "user_decay_summary['rn'] = user_decay_summary.sort_values(by='decay_day', ascending=False) \\\n",
    "             .groupby('customer_no') \\\n",
    "             .cumcount() + 1\n",
    "\n",
    "user_decay_summary"
   ]
  },
  {
   "cell_type": "code",
   "execution_count": 9,
   "metadata": {},
   "outputs": [
    {
     "data": {
      "text/html": [
       "<div>\n",
       "<style scoped>\n",
       "    .dataframe tbody tr th:only-of-type {\n",
       "        vertical-align: middle;\n",
       "    }\n",
       "\n",
       "    .dataframe tbody tr th {\n",
       "        vertical-align: top;\n",
       "    }\n",
       "\n",
       "    .dataframe thead th {\n",
       "        text-align: right;\n",
       "    }\n",
       "</style>\n",
       "<table border=\"1\" class=\"dataframe\">\n",
       "  <thead>\n",
       "    <tr style=\"text-align: right;\">\n",
       "      <th></th>\n",
       "      <th>customer_no</th>\n",
       "      <th>item_category</th>\n",
       "      <th>cnt_order</th>\n",
       "      <th>decay_day</th>\n",
       "      <th>rn</th>\n",
       "    </tr>\n",
       "  </thead>\n",
       "  <tbody>\n",
       "    <tr>\n",
       "      <th>0</th>\n",
       "      <td>2015010000596</td>\n",
       "      <td>생활가전</td>\n",
       "      <td>1</td>\n",
       "      <td>0.895587</td>\n",
       "      <td>1</td>\n",
       "    </tr>\n",
       "    <tr>\n",
       "      <th>1</th>\n",
       "      <td>2015010000652</td>\n",
       "      <td>일반식품</td>\n",
       "      <td>1</td>\n",
       "      <td>0.573274</td>\n",
       "      <td>1</td>\n",
       "    </tr>\n",
       "    <tr>\n",
       "      <th>2</th>\n",
       "      <td>2015010001152</td>\n",
       "      <td>일반식품</td>\n",
       "      <td>5</td>\n",
       "      <td>3.087330</td>\n",
       "      <td>1</td>\n",
       "    </tr>\n",
       "    <tr>\n",
       "      <th>3</th>\n",
       "      <td>2015010001213</td>\n",
       "      <td>건강식품</td>\n",
       "      <td>1</td>\n",
       "      <td>0.547986</td>\n",
       "      <td>1</td>\n",
       "    </tr>\n",
       "    <tr>\n",
       "      <th>4</th>\n",
       "      <td>2015010001954</td>\n",
       "      <td>여성의류</td>\n",
       "      <td>1</td>\n",
       "      <td>0.564717</td>\n",
       "      <td>1</td>\n",
       "    </tr>\n",
       "    <tr>\n",
       "      <th>...</th>\n",
       "      <td>...</td>\n",
       "      <td>...</td>\n",
       "      <td>...</td>\n",
       "      <td>...</td>\n",
       "      <td>...</td>\n",
       "    </tr>\n",
       "    <tr>\n",
       "      <th>72021</th>\n",
       "      <td>2021069984125</td>\n",
       "      <td>레포츠패션</td>\n",
       "      <td>1</td>\n",
       "      <td>0.900087</td>\n",
       "      <td>1</td>\n",
       "    </tr>\n",
       "    <tr>\n",
       "      <th>72022</th>\n",
       "      <td>2021069986151</td>\n",
       "      <td>레포츠패션</td>\n",
       "      <td>1</td>\n",
       "      <td>0.900087</td>\n",
       "      <td>1</td>\n",
       "    </tr>\n",
       "    <tr>\n",
       "      <th>72023</th>\n",
       "      <td>2021069994005</td>\n",
       "      <td>레포츠패션</td>\n",
       "      <td>1</td>\n",
       "      <td>0.918316</td>\n",
       "      <td>1</td>\n",
       "    </tr>\n",
       "    <tr>\n",
       "      <th>72024</th>\n",
       "      <td>2021069994853</td>\n",
       "      <td>레포츠패션</td>\n",
       "      <td>1</td>\n",
       "      <td>0.900087</td>\n",
       "      <td>1</td>\n",
       "    </tr>\n",
       "    <tr>\n",
       "      <th>72025</th>\n",
       "      <td>2021069995629</td>\n",
       "      <td>레포츠패션</td>\n",
       "      <td>1</td>\n",
       "      <td>0.922931</td>\n",
       "      <td>1</td>\n",
       "    </tr>\n",
       "  </tbody>\n",
       "</table>\n",
       "<p>72026 rows × 5 columns</p>\n",
       "</div>"
      ],
      "text/plain": [
       "         customer_no item_category  cnt_order  decay_day  rn\n",
       "0      2015010000596          생활가전          1   0.895587   1\n",
       "1      2015010000652          일반식품          1   0.573274   1\n",
       "2      2015010001152          일반식품          5   3.087330   1\n",
       "3      2015010001213          건강식품          1   0.547986   1\n",
       "4      2015010001954          여성의류          1   0.564717   1\n",
       "...              ...           ...        ...        ...  ..\n",
       "72021  2021069984125         레포츠패션          1   0.900087   1\n",
       "72022  2021069986151         레포츠패션          1   0.900087   1\n",
       "72023  2021069994005         레포츠패션          1   0.918316   1\n",
       "72024  2021069994853         레포츠패션          1   0.900087   1\n",
       "72025  2021069995629         레포츠패션          1   0.922931   1\n",
       "\n",
       "[72026 rows x 5 columns]"
      ]
     },
     "execution_count": 9,
     "metadata": {},
     "output_type": "execute_result"
    }
   ],
   "source": [
    "## Time decay 적용한 최선호 구매 아이템 정보만 남기기\n",
    "user_decay_item_info = user_decay_summary[user_decay_summary['rn'] == 1].reset_index(drop = True)\n",
    "user_decay_item_info"
   ]
  },
  {
   "cell_type": "markdown",
   "metadata": {},
   "source": [
    ">재사용을 위한 Class 생성"
   ]
  },
  {
   "cell_type": "code",
   "execution_count": 11,
   "metadata": {},
   "outputs": [
    {
     "name": "stdout",
     "output_type": "stream",
     "text": [
      "         customer_no item_category  cnt_order  decay_day  rn\n",
      "0      2015010000596          생활가전          1   0.895587   1\n",
      "1      2015010000652          일반식품          1   0.573274   1\n",
      "2      2015010001152          일반식품          5   3.087330   1\n",
      "3      2015010001213          건강식품          1   0.547986   1\n",
      "4      2015010001954          여성의류          1   0.564717   1\n",
      "...              ...           ...        ...        ...  ..\n",
      "72021  2021069984125         레포츠패션          1   0.900087   1\n",
      "72022  2021069986151         레포츠패션          1   0.900087   1\n",
      "72023  2021069994005         레포츠패션          1   0.918316   1\n",
      "72024  2021069994853         레포츠패션          1   0.900087   1\n",
      "72025  2021069995629         레포츠패션          1   0.922931   1\n",
      "\n",
      "[72026 rows x 5 columns]\n"
     ]
    }
   ],
   "source": [
    "import pandas as pd\n",
    "\n",
    "class CustomerPreference:\n",
    "    def __init__(self, customer_data, day_decay_parameter=0.995):\n",
    "        \"\"\"\n",
    "        고객 선호도 분석을 위한 클래스 초기화\n",
    "        :param customer_data: 고객 구매 데이터 (DataFrame)\n",
    "        :param day_decay_parameter: Time Decay를 위한 일별 감소 파라미터 (float)\n",
    "        \"\"\"\n",
    "        self.customer_data = customer_data\n",
    "        self.day_decay_parameter = day_decay_parameter\n",
    "        self.recommend_date = self.customer_data['order_date'].max() + pd.Timedelta(days=1)\n",
    "        self.user_decay_item_info = None\n",
    "\n",
    "    def apply_time_decay(self):\n",
    "        \"\"\"\n",
    "        Time Decay 모델 적용 및 고객별 최선호 아이템 카테고리 추출\n",
    "        \"\"\"\n",
    "        # 유저별 데이터 집계\n",
    "        decay_summary = self.customer_data.groupby(['customer_no', 'order_date', 'item_category'])['order_no'].nunique().reset_index()\n",
    "        decay_summary.rename(columns={'order_no': 'cnt_order'}, inplace=True)\n",
    "        \n",
    "        # Time Decay 적용 컬럼 생성\n",
    "        decay_summary['decay_day'] = self.day_decay_parameter ** ((self.recommend_date - decay_summary['order_date']).dt.days)\n",
    "\n",
    "        # decay_day 집계\n",
    "        user_decay_summary = decay_summary.groupby(['customer_no', 'item_category']).agg(\n",
    "            cnt_order=('cnt_order', 'sum'),\n",
    "            decay_day=('decay_day', 'sum')\n",
    "        ).reset_index()\n",
    "\n",
    "        # decay_day 값이 큰 아이템별로 순위 매기기\n",
    "        user_decay_summary['rn'] = user_decay_summary.sort_values(by='decay_day', ascending=False) \\\n",
    "            .groupby('customer_no') \\\n",
    "            .cumcount() + 1\n",
    "\n",
    "        # Time decay 적용한 최선호 구매 아이템 정보만 남기기\n",
    "        self.user_decay_item_info = user_decay_summary[user_decay_summary['rn'] == 1].reset_index(drop=True)\n",
    "\n",
    "    def get_preferred_items(self):\n",
    "        \"\"\"\n",
    "        최선호 아이템 정보 반환\n",
    "        :return: 고객별 최선호 아이템 카테고리 정보 (DataFrame)\n",
    "        \"\"\"\n",
    "        if self.user_decay_item_info is None:\n",
    "            self.apply_time_decay()\n",
    "        return self.user_decay_item_info\n",
    "    \n",
    "preference_analyzer = CustomerPreference(customer)\n",
    "print(preference_analyzer.get_preferred_items())"
   ]
  },
  {
   "cell_type": "code",
   "execution_count": 10,
   "metadata": {},
   "outputs": [
    {
     "data": {
      "application/vnd.plotly.v1+json": {
       "config": {
        "plotlyServerURL": "https://plot.ly"
       },
       "data": [
        {
         "domain": {
          "x": [
           0,
           1
          ],
          "y": [
           0,
           1
          ]
         },
         "hovertemplate": "index=%{label}<br>item_category=%{value}<extra></extra>",
         "labels": [
          "일반식품",
          "레포츠패션",
          "생활용품",
          "언더웨어",
          "패션잡화",
          "여성의류",
          "캐쥬얼",
          "건강식품",
          "뷰티",
          "생활가전",
          "주방용품",
          "주방가전",
          "대형가전",
          "키즈/유아동",
          "가구/인테리어",
          "레저/스포츠",
          "침구",
          "남성의류",
          "반려용품",
          "상품권",
          "여행"
         ],
         "legendgroup": "",
         "name": "",
         "showlegend": true,
         "type": "pie",
         "values": [
          27119,
          9867,
          6064,
          5382,
          5140,
          4447,
          3349,
          2925,
          1933,
          1479,
          1201,
          712,
          626,
          580,
          468,
          364,
          208,
          99,
          35,
          26,
          2
         ]
        }
       ],
       "layout": {
        "height": 600,
        "legend": {
         "tracegroupgap": 0
        },
        "template": {
         "data": {
          "bar": [
           {
            "error_x": {
             "color": "#2a3f5f"
            },
            "error_y": {
             "color": "#2a3f5f"
            },
            "marker": {
             "line": {
              "color": "#E5ECF6",
              "width": 0.5
             },
             "pattern": {
              "fillmode": "overlay",
              "size": 10,
              "solidity": 0.2
             }
            },
            "type": "bar"
           }
          ],
          "barpolar": [
           {
            "marker": {
             "line": {
              "color": "#E5ECF6",
              "width": 0.5
             },
             "pattern": {
              "fillmode": "overlay",
              "size": 10,
              "solidity": 0.2
             }
            },
            "type": "barpolar"
           }
          ],
          "carpet": [
           {
            "aaxis": {
             "endlinecolor": "#2a3f5f",
             "gridcolor": "white",
             "linecolor": "white",
             "minorgridcolor": "white",
             "startlinecolor": "#2a3f5f"
            },
            "baxis": {
             "endlinecolor": "#2a3f5f",
             "gridcolor": "white",
             "linecolor": "white",
             "minorgridcolor": "white",
             "startlinecolor": "#2a3f5f"
            },
            "type": "carpet"
           }
          ],
          "choropleth": [
           {
            "colorbar": {
             "outlinewidth": 0,
             "ticks": ""
            },
            "type": "choropleth"
           }
          ],
          "contour": [
           {
            "colorbar": {
             "outlinewidth": 0,
             "ticks": ""
            },
            "colorscale": [
             [
              0,
              "#0d0887"
             ],
             [
              0.1111111111111111,
              "#46039f"
             ],
             [
              0.2222222222222222,
              "#7201a8"
             ],
             [
              0.3333333333333333,
              "#9c179e"
             ],
             [
              0.4444444444444444,
              "#bd3786"
             ],
             [
              0.5555555555555556,
              "#d8576b"
             ],
             [
              0.6666666666666666,
              "#ed7953"
             ],
             [
              0.7777777777777778,
              "#fb9f3a"
             ],
             [
              0.8888888888888888,
              "#fdca26"
             ],
             [
              1,
              "#f0f921"
             ]
            ],
            "type": "contour"
           }
          ],
          "contourcarpet": [
           {
            "colorbar": {
             "outlinewidth": 0,
             "ticks": ""
            },
            "type": "contourcarpet"
           }
          ],
          "heatmap": [
           {
            "colorbar": {
             "outlinewidth": 0,
             "ticks": ""
            },
            "colorscale": [
             [
              0,
              "#0d0887"
             ],
             [
              0.1111111111111111,
              "#46039f"
             ],
             [
              0.2222222222222222,
              "#7201a8"
             ],
             [
              0.3333333333333333,
              "#9c179e"
             ],
             [
              0.4444444444444444,
              "#bd3786"
             ],
             [
              0.5555555555555556,
              "#d8576b"
             ],
             [
              0.6666666666666666,
              "#ed7953"
             ],
             [
              0.7777777777777778,
              "#fb9f3a"
             ],
             [
              0.8888888888888888,
              "#fdca26"
             ],
             [
              1,
              "#f0f921"
             ]
            ],
            "type": "heatmap"
           }
          ],
          "heatmapgl": [
           {
            "colorbar": {
             "outlinewidth": 0,
             "ticks": ""
            },
            "colorscale": [
             [
              0,
              "#0d0887"
             ],
             [
              0.1111111111111111,
              "#46039f"
             ],
             [
              0.2222222222222222,
              "#7201a8"
             ],
             [
              0.3333333333333333,
              "#9c179e"
             ],
             [
              0.4444444444444444,
              "#bd3786"
             ],
             [
              0.5555555555555556,
              "#d8576b"
             ],
             [
              0.6666666666666666,
              "#ed7953"
             ],
             [
              0.7777777777777778,
              "#fb9f3a"
             ],
             [
              0.8888888888888888,
              "#fdca26"
             ],
             [
              1,
              "#f0f921"
             ]
            ],
            "type": "heatmapgl"
           }
          ],
          "histogram": [
           {
            "marker": {
             "pattern": {
              "fillmode": "overlay",
              "size": 10,
              "solidity": 0.2
             }
            },
            "type": "histogram"
           }
          ],
          "histogram2d": [
           {
            "colorbar": {
             "outlinewidth": 0,
             "ticks": ""
            },
            "colorscale": [
             [
              0,
              "#0d0887"
             ],
             [
              0.1111111111111111,
              "#46039f"
             ],
             [
              0.2222222222222222,
              "#7201a8"
             ],
             [
              0.3333333333333333,
              "#9c179e"
             ],
             [
              0.4444444444444444,
              "#bd3786"
             ],
             [
              0.5555555555555556,
              "#d8576b"
             ],
             [
              0.6666666666666666,
              "#ed7953"
             ],
             [
              0.7777777777777778,
              "#fb9f3a"
             ],
             [
              0.8888888888888888,
              "#fdca26"
             ],
             [
              1,
              "#f0f921"
             ]
            ],
            "type": "histogram2d"
           }
          ],
          "histogram2dcontour": [
           {
            "colorbar": {
             "outlinewidth": 0,
             "ticks": ""
            },
            "colorscale": [
             [
              0,
              "#0d0887"
             ],
             [
              0.1111111111111111,
              "#46039f"
             ],
             [
              0.2222222222222222,
              "#7201a8"
             ],
             [
              0.3333333333333333,
              "#9c179e"
             ],
             [
              0.4444444444444444,
              "#bd3786"
             ],
             [
              0.5555555555555556,
              "#d8576b"
             ],
             [
              0.6666666666666666,
              "#ed7953"
             ],
             [
              0.7777777777777778,
              "#fb9f3a"
             ],
             [
              0.8888888888888888,
              "#fdca26"
             ],
             [
              1,
              "#f0f921"
             ]
            ],
            "type": "histogram2dcontour"
           }
          ],
          "mesh3d": [
           {
            "colorbar": {
             "outlinewidth": 0,
             "ticks": ""
            },
            "type": "mesh3d"
           }
          ],
          "parcoords": [
           {
            "line": {
             "colorbar": {
              "outlinewidth": 0,
              "ticks": ""
             }
            },
            "type": "parcoords"
           }
          ],
          "pie": [
           {
            "automargin": true,
            "type": "pie"
           }
          ],
          "scatter": [
           {
            "fillpattern": {
             "fillmode": "overlay",
             "size": 10,
             "solidity": 0.2
            },
            "type": "scatter"
           }
          ],
          "scatter3d": [
           {
            "line": {
             "colorbar": {
              "outlinewidth": 0,
              "ticks": ""
             }
            },
            "marker": {
             "colorbar": {
              "outlinewidth": 0,
              "ticks": ""
             }
            },
            "type": "scatter3d"
           }
          ],
          "scattercarpet": [
           {
            "marker": {
             "colorbar": {
              "outlinewidth": 0,
              "ticks": ""
             }
            },
            "type": "scattercarpet"
           }
          ],
          "scattergeo": [
           {
            "marker": {
             "colorbar": {
              "outlinewidth": 0,
              "ticks": ""
             }
            },
            "type": "scattergeo"
           }
          ],
          "scattergl": [
           {
            "marker": {
             "colorbar": {
              "outlinewidth": 0,
              "ticks": ""
             }
            },
            "type": "scattergl"
           }
          ],
          "scattermapbox": [
           {
            "marker": {
             "colorbar": {
              "outlinewidth": 0,
              "ticks": ""
             }
            },
            "type": "scattermapbox"
           }
          ],
          "scatterpolar": [
           {
            "marker": {
             "colorbar": {
              "outlinewidth": 0,
              "ticks": ""
             }
            },
            "type": "scatterpolar"
           }
          ],
          "scatterpolargl": [
           {
            "marker": {
             "colorbar": {
              "outlinewidth": 0,
              "ticks": ""
             }
            },
            "type": "scatterpolargl"
           }
          ],
          "scatterternary": [
           {
            "marker": {
             "colorbar": {
              "outlinewidth": 0,
              "ticks": ""
             }
            },
            "type": "scatterternary"
           }
          ],
          "surface": [
           {
            "colorbar": {
             "outlinewidth": 0,
             "ticks": ""
            },
            "colorscale": [
             [
              0,
              "#0d0887"
             ],
             [
              0.1111111111111111,
              "#46039f"
             ],
             [
              0.2222222222222222,
              "#7201a8"
             ],
             [
              0.3333333333333333,
              "#9c179e"
             ],
             [
              0.4444444444444444,
              "#bd3786"
             ],
             [
              0.5555555555555556,
              "#d8576b"
             ],
             [
              0.6666666666666666,
              "#ed7953"
             ],
             [
              0.7777777777777778,
              "#fb9f3a"
             ],
             [
              0.8888888888888888,
              "#fdca26"
             ],
             [
              1,
              "#f0f921"
             ]
            ],
            "type": "surface"
           }
          ],
          "table": [
           {
            "cells": {
             "fill": {
              "color": "#EBF0F8"
             },
             "line": {
              "color": "white"
             }
            },
            "header": {
             "fill": {
              "color": "#C8D4E3"
             },
             "line": {
              "color": "white"
             }
            },
            "type": "table"
           }
          ]
         },
         "layout": {
          "annotationdefaults": {
           "arrowcolor": "#2a3f5f",
           "arrowhead": 0,
           "arrowwidth": 1
          },
          "autotypenumbers": "strict",
          "coloraxis": {
           "colorbar": {
            "outlinewidth": 0,
            "ticks": ""
           }
          },
          "colorscale": {
           "diverging": [
            [
             0,
             "#8e0152"
            ],
            [
             0.1,
             "#c51b7d"
            ],
            [
             0.2,
             "#de77ae"
            ],
            [
             0.3,
             "#f1b6da"
            ],
            [
             0.4,
             "#fde0ef"
            ],
            [
             0.5,
             "#f7f7f7"
            ],
            [
             0.6,
             "#e6f5d0"
            ],
            [
             0.7,
             "#b8e186"
            ],
            [
             0.8,
             "#7fbc41"
            ],
            [
             0.9,
             "#4d9221"
            ],
            [
             1,
             "#276419"
            ]
           ],
           "sequential": [
            [
             0,
             "#0d0887"
            ],
            [
             0.1111111111111111,
             "#46039f"
            ],
            [
             0.2222222222222222,
             "#7201a8"
            ],
            [
             0.3333333333333333,
             "#9c179e"
            ],
            [
             0.4444444444444444,
             "#bd3786"
            ],
            [
             0.5555555555555556,
             "#d8576b"
            ],
            [
             0.6666666666666666,
             "#ed7953"
            ],
            [
             0.7777777777777778,
             "#fb9f3a"
            ],
            [
             0.8888888888888888,
             "#fdca26"
            ],
            [
             1,
             "#f0f921"
            ]
           ],
           "sequentialminus": [
            [
             0,
             "#0d0887"
            ],
            [
             0.1111111111111111,
             "#46039f"
            ],
            [
             0.2222222222222222,
             "#7201a8"
            ],
            [
             0.3333333333333333,
             "#9c179e"
            ],
            [
             0.4444444444444444,
             "#bd3786"
            ],
            [
             0.5555555555555556,
             "#d8576b"
            ],
            [
             0.6666666666666666,
             "#ed7953"
            ],
            [
             0.7777777777777778,
             "#fb9f3a"
            ],
            [
             0.8888888888888888,
             "#fdca26"
            ],
            [
             1,
             "#f0f921"
            ]
           ]
          },
          "colorway": [
           "#636efa",
           "#EF553B",
           "#00cc96",
           "#ab63fa",
           "#FFA15A",
           "#19d3f3",
           "#FF6692",
           "#B6E880",
           "#FF97FF",
           "#FECB52"
          ],
          "font": {
           "color": "#2a3f5f"
          },
          "geo": {
           "bgcolor": "white",
           "lakecolor": "white",
           "landcolor": "#E5ECF6",
           "showlakes": true,
           "showland": true,
           "subunitcolor": "white"
          },
          "hoverlabel": {
           "align": "left"
          },
          "hovermode": "closest",
          "mapbox": {
           "style": "light"
          },
          "paper_bgcolor": "white",
          "plot_bgcolor": "#E5ECF6",
          "polar": {
           "angularaxis": {
            "gridcolor": "white",
            "linecolor": "white",
            "ticks": ""
           },
           "bgcolor": "#E5ECF6",
           "radialaxis": {
            "gridcolor": "white",
            "linecolor": "white",
            "ticks": ""
           }
          },
          "scene": {
           "xaxis": {
            "backgroundcolor": "#E5ECF6",
            "gridcolor": "white",
            "gridwidth": 2,
            "linecolor": "white",
            "showbackground": true,
            "ticks": "",
            "zerolinecolor": "white"
           },
           "yaxis": {
            "backgroundcolor": "#E5ECF6",
            "gridcolor": "white",
            "gridwidth": 2,
            "linecolor": "white",
            "showbackground": true,
            "ticks": "",
            "zerolinecolor": "white"
           },
           "zaxis": {
            "backgroundcolor": "#E5ECF6",
            "gridcolor": "white",
            "gridwidth": 2,
            "linecolor": "white",
            "showbackground": true,
            "ticks": "",
            "zerolinecolor": "white"
           }
          },
          "shapedefaults": {
           "line": {
            "color": "#2a3f5f"
           }
          },
          "ternary": {
           "aaxis": {
            "gridcolor": "white",
            "linecolor": "white",
            "ticks": ""
           },
           "baxis": {
            "gridcolor": "white",
            "linecolor": "white",
            "ticks": ""
           },
           "bgcolor": "#E5ECF6",
           "caxis": {
            "gridcolor": "white",
            "linecolor": "white",
            "ticks": ""
           }
          },
          "title": {
           "x": 0.05
          },
          "xaxis": {
           "automargin": true,
           "gridcolor": "white",
           "linecolor": "white",
           "ticks": "",
           "title": {
            "standoff": 15
           },
           "zerolinecolor": "white",
           "zerolinewidth": 2
          },
          "yaxis": {
           "automargin": true,
           "gridcolor": "white",
           "linecolor": "white",
           "ticks": "",
           "title": {
            "standoff": 15
           },
           "zerolinecolor": "white",
           "zerolinewidth": 2
          }
         }
        },
        "title": {
         "text": "아이템 카테고리 선호도"
        },
        "width": 800
       }
      }
     },
     "metadata": {},
     "output_type": "display_data"
    }
   ],
   "source": [
    "user_decay_item_info_value = user_decay_item_info['item_category'].value_counts().reset_index()\n",
    "\n",
    "fig = px.pie(user_decay_item_info_value, title = '아이템 카테고리 선호도', values = 'item_category', names ='index')\n",
    "fig.update_layout(width=800, height=600)\n",
    "fig.show()"
   ]
  },
  {
   "cell_type": "code",
   "execution_count": null,
   "metadata": {},
   "outputs": [],
   "source": [
    "user_decay_item_info_value_2 = user_decay_item_info['item_category'].value_counts().reset_index()\n",
    "\n",
    "fig = px.pie(user_decay_item_info_value_, title = '아이템 카테고리 선호도', values = 'item_category', names ='index')\n",
    "fig.update_layout(width=800, height=600)\n",
    "fig.show()"
   ]
  },
  {
   "cell_type": "markdown",
   "metadata": {},
   "source": [
    "## 2. MBTI 활용해 고객 세그먼트"
   ]
  },
  {
   "cell_type": "markdown",
   "metadata": {},
   "source": [
    "|성별 |M|F|\n",
    "|-----|-|--|\n",
    "|선호 카테고리| 20개 |\n",
    "|선호 구매 요일대 |D|W|\n",
    "|선호 플랫폼|E|T|\n",
    "|구매 시간대 |O|A|"
   ]
  },
  {
   "cell_type": "markdown",
   "metadata": {},
   "source": [
    "- 성별 : 남성(M) 여성(F)\n",
    "- 선호 카테고리 계열 : 의류, 식품 , 가전, 리빙\n",
    "- 선호 구매 요일대 : 평일 , 주말\n",
    "- 선호 플랫폼 : 모바일 , TV"
   ]
  },
  {
   "cell_type": "code",
   "execution_count": 19,
   "metadata": {},
   "outputs": [
    {
     "data": {
      "text/html": [
       "<div>\n",
       "<style scoped>\n",
       "    .dataframe tbody tr th:only-of-type {\n",
       "        vertical-align: middle;\n",
       "    }\n",
       "\n",
       "    .dataframe tbody tr th {\n",
       "        vertical-align: top;\n",
       "    }\n",
       "\n",
       "    .dataframe thead th {\n",
       "        text-align: right;\n",
       "    }\n",
       "</style>\n",
       "<table border=\"1\" class=\"dataframe\">\n",
       "  <thead>\n",
       "    <tr style=\"text-align: right;\">\n",
       "      <th></th>\n",
       "      <th>gender</th>\n",
       "      <th>item_category</th>\n",
       "      <th>day_of_week</th>\n",
       "      <th>channel</th>\n",
       "    </tr>\n",
       "  </thead>\n",
       "  <tbody>\n",
       "    <tr>\n",
       "      <th>0</th>\n",
       "      <td>9</td>\n",
       "      <td>캐쥬얼</td>\n",
       "      <td>Monday</td>\n",
       "      <td>TV</td>\n",
       "    </tr>\n",
       "    <tr>\n",
       "      <th>1</th>\n",
       "      <td>2</td>\n",
       "      <td>레포츠패션</td>\n",
       "      <td>Monday</td>\n",
       "      <td>TV</td>\n",
       "    </tr>\n",
       "    <tr>\n",
       "      <th>2</th>\n",
       "      <td>1</td>\n",
       "      <td>뷰티</td>\n",
       "      <td>Thursday</td>\n",
       "      <td>TV</td>\n",
       "    </tr>\n",
       "    <tr>\n",
       "      <th>3</th>\n",
       "      <td>9</td>\n",
       "      <td>건강식품</td>\n",
       "      <td>Thursday</td>\n",
       "      <td>TV</td>\n",
       "    </tr>\n",
       "    <tr>\n",
       "      <th>4</th>\n",
       "      <td>1</td>\n",
       "      <td>일반식품</td>\n",
       "      <td>Wednesday</td>\n",
       "      <td>TV</td>\n",
       "    </tr>\n",
       "    <tr>\n",
       "      <th>...</th>\n",
       "      <td>...</td>\n",
       "      <td>...</td>\n",
       "      <td>...</td>\n",
       "      <td>...</td>\n",
       "    </tr>\n",
       "    <tr>\n",
       "      <th>147306</th>\n",
       "      <td>9</td>\n",
       "      <td>건강식품</td>\n",
       "      <td>Tuesday</td>\n",
       "      <td>TV</td>\n",
       "    </tr>\n",
       "    <tr>\n",
       "      <th>147307</th>\n",
       "      <td>2</td>\n",
       "      <td>뷰티</td>\n",
       "      <td>Thursday</td>\n",
       "      <td>TV</td>\n",
       "    </tr>\n",
       "    <tr>\n",
       "      <th>147308</th>\n",
       "      <td>2</td>\n",
       "      <td>일반식품</td>\n",
       "      <td>Friday</td>\n",
       "      <td>Mobile</td>\n",
       "    </tr>\n",
       "    <tr>\n",
       "      <th>147309</th>\n",
       "      <td>1</td>\n",
       "      <td>일반식품</td>\n",
       "      <td>Wednesday</td>\n",
       "      <td>Mobile</td>\n",
       "    </tr>\n",
       "    <tr>\n",
       "      <th>147310</th>\n",
       "      <td>2</td>\n",
       "      <td>뷰티</td>\n",
       "      <td>Friday</td>\n",
       "      <td>Mobile</td>\n",
       "    </tr>\n",
       "  </tbody>\n",
       "</table>\n",
       "<p>147247 rows × 4 columns</p>\n",
       "</div>"
      ],
      "text/plain": [
       "        gender item_category day_of_week channel\n",
       "0            9           캐쥬얼      Monday      TV\n",
       "1            2         레포츠패션      Monday      TV\n",
       "2            1            뷰티    Thursday      TV\n",
       "3            9          건강식품    Thursday      TV\n",
       "4            1          일반식품   Wednesday      TV\n",
       "...        ...           ...         ...     ...\n",
       "147306       9          건강식품     Tuesday      TV\n",
       "147307       2            뷰티    Thursday      TV\n",
       "147308       2          일반식품      Friday  Mobile\n",
       "147309       1          일반식품   Wednesday  Mobile\n",
       "147310       2            뷰티      Friday  Mobile\n",
       "\n",
       "[147247 rows x 4 columns]"
      ]
     },
     "execution_count": 19,
     "metadata": {},
     "output_type": "execute_result"
    }
   ],
   "source": [
    "#분석용 데이터셋 생성\n",
    "customer_seg = customer\n",
    "customer_seg = customer_seg[['gender','item_category','day_of_week','channel']]\n",
    "customer_seg"
   ]
  },
  {
   "cell_type": "code",
   "execution_count": 27,
   "metadata": {},
   "outputs": [
    {
     "data": {
      "text/html": [
       "<div>\n",
       "<style scoped>\n",
       "    .dataframe tbody tr th:only-of-type {\n",
       "        vertical-align: middle;\n",
       "    }\n",
       "\n",
       "    .dataframe tbody tr th {\n",
       "        vertical-align: top;\n",
       "    }\n",
       "\n",
       "    .dataframe thead th {\n",
       "        text-align: right;\n",
       "    }\n",
       "</style>\n",
       "<table border=\"1\" class=\"dataframe\">\n",
       "  <thead>\n",
       "    <tr style=\"text-align: right;\">\n",
       "      <th></th>\n",
       "      <th>gender</th>\n",
       "      <th>item_category</th>\n",
       "      <th>day_of_week</th>\n",
       "      <th>channel</th>\n",
       "    </tr>\n",
       "  </thead>\n",
       "  <tbody>\n",
       "    <tr>\n",
       "      <th>0</th>\n",
       "      <td>X</td>\n",
       "      <td>캐쥬얼</td>\n",
       "      <td>Monday</td>\n",
       "      <td>TV</td>\n",
       "    </tr>\n",
       "    <tr>\n",
       "      <th>1</th>\n",
       "      <td>F</td>\n",
       "      <td>레포츠패션</td>\n",
       "      <td>Monday</td>\n",
       "      <td>TV</td>\n",
       "    </tr>\n",
       "    <tr>\n",
       "      <th>2</th>\n",
       "      <td>M</td>\n",
       "      <td>뷰티</td>\n",
       "      <td>Thursday</td>\n",
       "      <td>TV</td>\n",
       "    </tr>\n",
       "    <tr>\n",
       "      <th>3</th>\n",
       "      <td>X</td>\n",
       "      <td>건강식품</td>\n",
       "      <td>Thursday</td>\n",
       "      <td>TV</td>\n",
       "    </tr>\n",
       "    <tr>\n",
       "      <th>4</th>\n",
       "      <td>M</td>\n",
       "      <td>일반식품</td>\n",
       "      <td>Wednesday</td>\n",
       "      <td>TV</td>\n",
       "    </tr>\n",
       "    <tr>\n",
       "      <th>...</th>\n",
       "      <td>...</td>\n",
       "      <td>...</td>\n",
       "      <td>...</td>\n",
       "      <td>...</td>\n",
       "    </tr>\n",
       "    <tr>\n",
       "      <th>147306</th>\n",
       "      <td>X</td>\n",
       "      <td>건강식품</td>\n",
       "      <td>Tuesday</td>\n",
       "      <td>TV</td>\n",
       "    </tr>\n",
       "    <tr>\n",
       "      <th>147307</th>\n",
       "      <td>F</td>\n",
       "      <td>뷰티</td>\n",
       "      <td>Thursday</td>\n",
       "      <td>TV</td>\n",
       "    </tr>\n",
       "    <tr>\n",
       "      <th>147308</th>\n",
       "      <td>F</td>\n",
       "      <td>일반식품</td>\n",
       "      <td>Friday</td>\n",
       "      <td>Mobile</td>\n",
       "    </tr>\n",
       "    <tr>\n",
       "      <th>147309</th>\n",
       "      <td>M</td>\n",
       "      <td>일반식품</td>\n",
       "      <td>Wednesday</td>\n",
       "      <td>Mobile</td>\n",
       "    </tr>\n",
       "    <tr>\n",
       "      <th>147310</th>\n",
       "      <td>F</td>\n",
       "      <td>뷰티</td>\n",
       "      <td>Friday</td>\n",
       "      <td>Mobile</td>\n",
       "    </tr>\n",
       "  </tbody>\n",
       "</table>\n",
       "<p>147247 rows × 4 columns</p>\n",
       "</div>"
      ],
      "text/plain": [
       "       gender item_category day_of_week channel\n",
       "0           X           캐쥬얼      Monday      TV\n",
       "1           F         레포츠패션      Monday      TV\n",
       "2           M            뷰티    Thursday      TV\n",
       "3           X          건강식품    Thursday      TV\n",
       "4           M          일반식품   Wednesday      TV\n",
       "...       ...           ...         ...     ...\n",
       "147306      X          건강식품     Tuesday      TV\n",
       "147307      F            뷰티    Thursday      TV\n",
       "147308      F          일반식품      Friday  Mobile\n",
       "147309      M          일반식품   Wednesday  Mobile\n",
       "147310      F            뷰티      Friday  Mobile\n",
       "\n",
       "[147247 rows x 4 columns]"
      ]
     },
     "execution_count": 27,
     "metadata": {},
     "output_type": "execute_result"
    }
   ],
   "source": [
    "#데이터셋 칼럼명 변경\n",
    "customer_seg['gender'] = customer_seg['gender'].replace({1: 'M', 2: 'F', 9 : 'X'})\n",
    "customer_seg['item_category'] = \n",
    "customer_seg"
   ]
  },
  {
   "cell_type": "code",
   "execution_count": null,
   "metadata": {},
   "outputs": [],
   "source": [
    "customer_seg['gender']"
   ]
  },
  {
   "cell_type": "code",
   "execution_count": null,
   "metadata": {},
   "outputs": [],
   "source": []
  },
  {
   "cell_type": "code",
   "execution_count": null,
   "metadata": {},
   "outputs": [],
   "source": []
  },
  {
   "cell_type": "code",
   "execution_count": null,
   "metadata": {},
   "outputs": [],
   "source": []
  },
  {
   "cell_type": "code",
   "execution_count": null,
   "metadata": {},
   "outputs": [],
   "source": [
    "의류 : 레포츠패션, 언더웨어, 패션잡화, 여성의류, 캐쥬얼, 키즈/유아 등, 남성의류\n",
    "가전 : 대형가전, 생활가전, 주방가전\n",
    "가구 : 침구, 가구/인터레어\n",
    "식품 : 건강식품, 일반식품\n",
    "용품 : 주방용품, 생활용품, 뷰티, 레저/스포츠, 여행, 상품권, 반려용품"
   ]
  },
  {
   "cell_type": "code",
   "execution_count": 14,
   "metadata": {},
   "outputs": [
    {
     "data": {
      "text/html": [
       "<div>\n",
       "<style scoped>\n",
       "    .dataframe tbody tr th:only-of-type {\n",
       "        vertical-align: middle;\n",
       "    }\n",
       "\n",
       "    .dataframe tbody tr th {\n",
       "        vertical-align: top;\n",
       "    }\n",
       "\n",
       "    .dataframe thead th {\n",
       "        text-align: right;\n",
       "    }\n",
       "</style>\n",
       "<table border=\"1\" class=\"dataframe\">\n",
       "  <thead>\n",
       "    <tr style=\"text-align: right;\">\n",
       "      <th></th>\n",
       "      <th>customer_no</th>\n",
       "      <th>item_category</th>\n",
       "      <th>cnt_order</th>\n",
       "      <th>decay_day</th>\n",
       "      <th>rn</th>\n",
       "    </tr>\n",
       "  </thead>\n",
       "  <tbody>\n",
       "    <tr>\n",
       "      <th>0</th>\n",
       "      <td>2015010000596</td>\n",
       "      <td>생활가전</td>\n",
       "      <td>1</td>\n",
       "      <td>0.895587</td>\n",
       "      <td>1</td>\n",
       "    </tr>\n",
       "    <tr>\n",
       "      <th>1</th>\n",
       "      <td>2015010000652</td>\n",
       "      <td>일반식품</td>\n",
       "      <td>1</td>\n",
       "      <td>0.573274</td>\n",
       "      <td>1</td>\n",
       "    </tr>\n",
       "    <tr>\n",
       "      <th>2</th>\n",
       "      <td>2015010001152</td>\n",
       "      <td>일반식품</td>\n",
       "      <td>5</td>\n",
       "      <td>3.087330</td>\n",
       "      <td>1</td>\n",
       "    </tr>\n",
       "    <tr>\n",
       "      <th>3</th>\n",
       "      <td>2015010001213</td>\n",
       "      <td>건강식품</td>\n",
       "      <td>1</td>\n",
       "      <td>0.547986</td>\n",
       "      <td>1</td>\n",
       "    </tr>\n",
       "    <tr>\n",
       "      <th>4</th>\n",
       "      <td>2015010001954</td>\n",
       "      <td>여성의류</td>\n",
       "      <td>1</td>\n",
       "      <td>0.564717</td>\n",
       "      <td>1</td>\n",
       "    </tr>\n",
       "    <tr>\n",
       "      <th>...</th>\n",
       "      <td>...</td>\n",
       "      <td>...</td>\n",
       "      <td>...</td>\n",
       "      <td>...</td>\n",
       "      <td>...</td>\n",
       "    </tr>\n",
       "    <tr>\n",
       "      <th>72021</th>\n",
       "      <td>2021069984125</td>\n",
       "      <td>레포츠패션</td>\n",
       "      <td>1</td>\n",
       "      <td>0.900087</td>\n",
       "      <td>1</td>\n",
       "    </tr>\n",
       "    <tr>\n",
       "      <th>72022</th>\n",
       "      <td>2021069986151</td>\n",
       "      <td>레포츠패션</td>\n",
       "      <td>1</td>\n",
       "      <td>0.900087</td>\n",
       "      <td>1</td>\n",
       "    </tr>\n",
       "    <tr>\n",
       "      <th>72023</th>\n",
       "      <td>2021069994005</td>\n",
       "      <td>레포츠패션</td>\n",
       "      <td>1</td>\n",
       "      <td>0.918316</td>\n",
       "      <td>1</td>\n",
       "    </tr>\n",
       "    <tr>\n",
       "      <th>72024</th>\n",
       "      <td>2021069994853</td>\n",
       "      <td>레포츠패션</td>\n",
       "      <td>1</td>\n",
       "      <td>0.900087</td>\n",
       "      <td>1</td>\n",
       "    </tr>\n",
       "    <tr>\n",
       "      <th>72025</th>\n",
       "      <td>2021069995629</td>\n",
       "      <td>레포츠패션</td>\n",
       "      <td>1</td>\n",
       "      <td>0.922931</td>\n",
       "      <td>1</td>\n",
       "    </tr>\n",
       "  </tbody>\n",
       "</table>\n",
       "<p>72026 rows × 5 columns</p>\n",
       "</div>"
      ],
      "text/plain": [
       "         customer_no item_category  cnt_order  decay_day  rn\n",
       "0      2015010000596          생활가전          1   0.895587   1\n",
       "1      2015010000652          일반식품          1   0.573274   1\n",
       "2      2015010001152          일반식품          5   3.087330   1\n",
       "3      2015010001213          건강식품          1   0.547986   1\n",
       "4      2015010001954          여성의류          1   0.564717   1\n",
       "...              ...           ...        ...        ...  ..\n",
       "72021  2021069984125         레포츠패션          1   0.900087   1\n",
       "72022  2021069986151         레포츠패션          1   0.900087   1\n",
       "72023  2021069994005         레포츠패션          1   0.918316   1\n",
       "72024  2021069994853         레포츠패션          1   0.900087   1\n",
       "72025  2021069995629         레포츠패션          1   0.922931   1\n",
       "\n",
       "[72026 rows x 5 columns]"
      ]
     },
     "execution_count": 14,
     "metadata": {},
     "output_type": "execute_result"
    }
   ],
   "source": [
    "user_decay_item_info"
   ]
  },
  {
   "cell_type": "code",
   "execution_count": null,
   "metadata": {},
   "outputs": [],
   "source": []
  }
 ],
 "metadata": {
  "kernelspec": {
   "display_name": "base",
   "language": "python",
   "name": "python3"
  },
  "language_info": {
   "codemirror_mode": {
    "name": "ipython",
    "version": 3
   },
   "file_extension": ".py",
   "mimetype": "text/x-python",
   "name": "python",
   "nbconvert_exporter": "python",
   "pygments_lexer": "ipython3",
   "version": "3.9.13"
  }
 },
 "nbformat": 4,
 "nbformat_minor": 2
}
